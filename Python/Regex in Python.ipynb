{
 "cells": [
  {
   "cell_type": "code",
   "execution_count": 1,
   "metadata": {},
   "outputs": [
    {
     "name": "stdout",
     "output_type": "stream",
     "text": [
      "mno\n",
      "m12\n"
     ]
    }
   ],
   "source": [
    "# 1 . WAP to create regular epxpresion to search for strings starting with m and having total 3 characters.\n",
    "import re\n",
    "ls = [\n",
    "'i am mmm',\n",
    "'may i help you. mon monday',\n",
    "'mautik',\n",
    "'m',\n",
    "'mn',\n",
    "'mno',\n",
    "'m12',\n",
    "'mnop']\n",
    "for s in ls:\n",
    "    res = re.search(r'^m..$',s)\n",
    "    if res:\n",
    "        print(res.group(0))\n",
    "    "
   ]
  },
  {
   "cell_type": "code",
   "execution_count": 2,
   "metadata": {},
   "outputs": [
    {
     "name": "stdout",
     "output_type": "stream",
     "text": [
      "['ba', 'bbba', 'ba', 'ba', 'bc', 'bgmi']\n"
     ]
    }
   ],
   "source": [
    "# 2. wap create regex word start with b\n",
    "s = \"a b ba bbba aba cba abc bgmi\"\n",
    "res = re.findall(r'[b]\\w+',s)\n",
    "if res:\n",
    "    print(res)\n",
    "else:\n",
    "    print(\"No Match\")"
   ]
  },
  {
   "cell_type": "code",
   "execution_count": 3,
   "metadata": {},
   "outputs": [
    {
     "name": "stdout",
     "output_type": "stream",
     "text": [
      "['Mautik', 'Pavan', 'Avi', 'Jaydeep', 'Rutvik']\n",
      "['90.09', '91', '92', '93', '99']\n"
     ]
    }
   ],
   "source": [
    "# 3. regex for retrive name and marks from str\n",
    "s = \"Mautik 90.09 Pavan 91 Avi 92 Jaydeep 93 Rutvik 99\"\n",
    "name = re.findall(r'[a-zA-Z_]+',s)\n",
    "marks = re.findall(r'[0-9.]+',s)\n",
    "if name:\n",
    "    print(name)\n",
    "else:\n",
    "    print(\"No Match\")\n",
    "if marks:\n",
    "    print(marks)\n",
    "else:\n",
    "    print(\"No Match\")"
   ]
  },
  {
   "cell_type": "code",
   "execution_count": 4,
   "metadata": {},
   "outputs": [
    {
     "name": "stdout",
     "output_type": "stream",
     "text": [
      "['mautikd@gmail.com', 'mautikdonda123@gmail.com', 'pavan.gabani@gmail.com', 'ajchauhan501@gmail.com', 'jdchauhan@gmail.com']\n"
     ]
    }
   ],
   "source": [
    "# 4. read email id from file\n",
    "regex = r'\\b[A-Za-z0-9._%+-]+@[A-Za-z0-9.-]+\\.[A-Z|a-z]{2,}\\b'\n",
    "file = open(\"emails.txt\",'r')\n",
    "s = file.read()\n",
    "emails = []\n",
    "while s:\n",
    "    rs = re.findall(regex,s)\n",
    "    if rs:\n",
    "        emails += rs\n",
    "    s = file.read()\n",
    "file.close()\n",
    "print(emails)"
   ]
  }
 ],
 "metadata": {
  "kernelspec": {
   "display_name": "Python 3",
   "language": "python",
   "name": "python3"
  },
  "language_info": {
   "codemirror_mode": {
    "name": "ipython",
    "version": 3
   },
   "file_extension": ".py",
   "mimetype": "text/x-python",
   "name": "python",
   "nbconvert_exporter": "python",
   "pygments_lexer": "ipython3",
   "version": "3.8.4rc1"
  }
 },
 "nbformat": 4,
 "nbformat_minor": 4
}
